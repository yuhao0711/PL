{
 "cells": [
  {
   "cell_type": "code",
   "execution_count": 13,
   "id": "793408ba",
   "metadata": {},
   "outputs": [],
   "source": [
    "import pandas as pd    # 使用 pd 來引用 pandas 模組中的函數和變數\n",
    "import re   #用於篩選文字\n",
    "\n",
    "#read csv file\n",
    "rank_2021 = pd.read_csv(\"rank_2021.csv\") \n",
    "rank_2022 = pd.read_csv(\"rank_2022.csv\") "
   ]
  },
  {
   "cell_type": "code",
   "execution_count": 6,
   "id": "5a7424a9",
   "metadata": {},
   "outputs": [
    {
     "data": {
      "text/html": [
       "<div>\n",
       "<style scoped>\n",
       "    .dataframe tbody tr th:only-of-type {\n",
       "        vertical-align: middle;\n",
       "    }\n",
       "\n",
       "    .dataframe tbody tr th {\n",
       "        vertical-align: top;\n",
       "    }\n",
       "\n",
       "    .dataframe thead th {\n",
       "        text-align: right;\n",
       "    }\n",
       "</style>\n",
       "<table border=\"1\" class=\"dataframe\">\n",
       "  <thead>\n",
       "    <tr style=\"text-align: right;\">\n",
       "      <th></th>\n",
       "      <th>排名</th>\n",
       "      <th>遊戲</th>\n",
       "      <th>營收(十億)</th>\n",
       "    </tr>\n",
       "  </thead>\n",
       "  <tbody>\n",
       "    <tr>\n",
       "      <th>0</th>\n",
       "      <td>1</td>\n",
       "      <td>PUBG Mobile</td>\n",
       "      <td>2.8</td>\n",
       "    </tr>\n",
       "    <tr>\n",
       "      <th>1</th>\n",
       "      <td>2</td>\n",
       "      <td>王者榮耀</td>\n",
       "      <td>2.8</td>\n",
       "    </tr>\n",
       "    <tr>\n",
       "      <th>2</th>\n",
       "      <td>3</td>\n",
       "      <td>原神</td>\n",
       "      <td>1.8</td>\n",
       "    </tr>\n",
       "    <tr>\n",
       "      <th>3</th>\n",
       "      <td>4</td>\n",
       "      <td>Roblox</td>\n",
       "      <td>1.3</td>\n",
       "    </tr>\n",
       "    <tr>\n",
       "      <th>4</th>\n",
       "      <td>5</td>\n",
       "      <td>Coin Master</td>\n",
       "      <td>1.3</td>\n",
       "    </tr>\n",
       "    <tr>\n",
       "      <th>5</th>\n",
       "      <td>6</td>\n",
       "      <td>Pokemon Go</td>\n",
       "      <td>1.2</td>\n",
       "    </tr>\n",
       "    <tr>\n",
       "      <th>6</th>\n",
       "      <td>7</td>\n",
       "      <td>Candy Crush Saga</td>\n",
       "      <td>1.2</td>\n",
       "    </tr>\n",
       "    <tr>\n",
       "      <th>7</th>\n",
       "      <td>8</td>\n",
       "      <td>Garena Free Fire</td>\n",
       "      <td>1.1</td>\n",
       "    </tr>\n",
       "  </tbody>\n",
       "</table>\n",
       "</div>"
      ],
      "text/plain": [
       "   排名                遊戲  營收(十億)\n",
       "0   1       PUBG Mobile     2.8\n",
       "1   2              王者榮耀     2.8\n",
       "2   3                原神     1.8\n",
       "3   4            Roblox     1.3\n",
       "4   5       Coin Master     1.3\n",
       "5   6        Pokemon Go     1.2\n",
       "6   7  Candy Crush Saga     1.2\n",
       "7   8  Garena Free Fire     1.1"
      ]
     },
     "execution_count": 6,
     "metadata": {},
     "output_type": "execute_result"
    }
   ],
   "source": [
    "rank_2021"
   ]
  },
  {
   "cell_type": "code",
   "execution_count": 4,
   "id": "11735498",
   "metadata": {},
   "outputs": [
    {
     "data": {
      "text/html": [
       "<div>\n",
       "<style scoped>\n",
       "    .dataframe tbody tr th:only-of-type {\n",
       "        vertical-align: middle;\n",
       "    }\n",
       "\n",
       "    .dataframe tbody tr th {\n",
       "        vertical-align: top;\n",
       "    }\n",
       "\n",
       "    .dataframe thead th {\n",
       "        text-align: right;\n",
       "    }\n",
       "</style>\n",
       "<table border=\"1\" class=\"dataframe\">\n",
       "  <thead>\n",
       "    <tr style=\"text-align: right;\">\n",
       "      <th></th>\n",
       "      <th>排名</th>\n",
       "      <th>遊戲</th>\n",
       "      <th>營收(十億)</th>\n",
       "    </tr>\n",
       "  </thead>\n",
       "  <tbody>\n",
       "    <tr>\n",
       "      <th>0</th>\n",
       "      <td>1</td>\n",
       "      <td>王者榮耀</td>\n",
       "      <td>2.2</td>\n",
       "    </tr>\n",
       "    <tr>\n",
       "      <th>1</th>\n",
       "      <td>2</td>\n",
       "      <td>PUBG Mobile</td>\n",
       "      <td>1.7</td>\n",
       "    </tr>\n",
       "    <tr>\n",
       "      <th>2</th>\n",
       "      <td>3</td>\n",
       "      <td>原神</td>\n",
       "      <td>1.5</td>\n",
       "    </tr>\n",
       "    <tr>\n",
       "      <th>3</th>\n",
       "      <td>4</td>\n",
       "      <td>Candy Crush Saga</td>\n",
       "      <td>1.0</td>\n",
       "    </tr>\n",
       "    <tr>\n",
       "      <th>4</th>\n",
       "      <td>5</td>\n",
       "      <td>Roblox</td>\n",
       "      <td>0.8</td>\n",
       "    </tr>\n",
       "    <tr>\n",
       "      <th>5</th>\n",
       "      <td>6</td>\n",
       "      <td>Coin Master</td>\n",
       "      <td>0.8</td>\n",
       "    </tr>\n",
       "    <tr>\n",
       "      <th>6</th>\n",
       "      <td>7</td>\n",
       "      <td>三國志戰略版</td>\n",
       "      <td>0.7</td>\n",
       "    </tr>\n",
       "    <tr>\n",
       "      <th>7</th>\n",
       "      <td>8</td>\n",
       "      <td>Pokemon Go</td>\n",
       "      <td>0.7</td>\n",
       "    </tr>\n",
       "  </tbody>\n",
       "</table>\n",
       "</div>"
      ],
      "text/plain": [
       "   排名                遊戲  營收(十億)\n",
       "0   1              王者榮耀     2.2\n",
       "1   2       PUBG Mobile     1.7\n",
       "2   3                原神     1.5\n",
       "3   4  Candy Crush Saga     1.0\n",
       "4   5            Roblox     0.8\n",
       "5   6       Coin Master     0.8\n",
       "6   7            三國志戰略版     0.7\n",
       "7   8        Pokemon Go     0.7"
      ]
     },
     "execution_count": 4,
     "metadata": {},
     "output_type": "execute_result"
    }
   ],
   "source": [
    "rank_2022"
   ]
  },
  {
   "cell_type": "code",
   "execution_count": 7,
   "id": "bc9b2454",
   "metadata": {},
   "outputs": [],
   "source": [
    "set1 = set(list(rank_2021[\"遊戲\"]))\n",
    "set2 = set(list(rank_2022[\"遊戲\"]))"
   ]
  },
  {
   "cell_type": "code",
   "execution_count": 9,
   "id": "eeecc16c",
   "metadata": {},
   "outputs": [
    {
     "data": {
      "text/plain": [
       "{'Candy Crush Saga',\n",
       " 'Coin Master',\n",
       " 'Garena Free Fire',\n",
       " 'PUBG Mobile',\n",
       " 'Pokemon Go',\n",
       " 'Roblox',\n",
       " '原神',\n",
       " '王者榮耀'}"
      ]
     },
     "execution_count": 9,
     "metadata": {},
     "output_type": "execute_result"
    }
   ],
   "source": [
    "set1"
   ]
  },
  {
   "cell_type": "code",
   "execution_count": 10,
   "id": "f42de911",
   "metadata": {},
   "outputs": [
    {
     "data": {
      "text/plain": [
       "{'Candy Crush Saga',\n",
       " 'Coin Master',\n",
       " 'PUBG Mobile',\n",
       " 'Pokemon Go',\n",
       " 'Roblox',\n",
       " '三國志戰略版',\n",
       " '原神',\n",
       " '王者榮耀'}"
      ]
     },
     "execution_count": 10,
     "metadata": {},
     "output_type": "execute_result"
    }
   ],
   "source": [
    "set2"
   ]
  },
  {
   "cell_type": "code",
   "execution_count": 11,
   "id": "ced14a5e",
   "metadata": {},
   "outputs": [
    {
     "name": "stdout",
     "output_type": "stream",
     "text": [
      "{'Pokemon Go', 'PUBG Mobile', 'Candy Crush Saga', '王者榮耀', 'Coin Master', '原神', 'Roblox'}\n",
      "{'三國志戰略版'}\n"
     ]
    }
   ],
   "source": [
    "print(set1&set2)    #交集\n",
    "print(set2-set1)    #差集"
   ]
  },
  {
   "cell_type": "code",
   "execution_count": 17,
   "id": "16094b47",
   "metadata": {},
   "outputs": [
    {
     "name": "stdout",
     "output_type": "stream",
     "text": [
      "三國志戰略版在2022年新上榜\n"
     ]
    }
   ],
   "source": [
    "pattern = re.compile(r'[^\\u4e00-\\u9fa5a-zA-Z]')\n",
    "new = str(set2-set1)\n",
    "new = pattern.sub('', new)   #將標點符號以空白取代\n",
    "print(new+\"在2022年新上榜\")"
   ]
  },
  {
   "cell_type": "code",
   "execution_count": null,
   "id": "3e1f2f1d",
   "metadata": {},
   "outputs": [],
   "source": []
  }
 ],
 "metadata": {
  "kernelspec": {
   "display_name": "Python 3 (ipykernel)",
   "language": "python",
   "name": "python3"
  },
  "language_info": {
   "codemirror_mode": {
    "name": "ipython",
    "version": 3
   },
   "file_extension": ".py",
   "mimetype": "text/x-python",
   "name": "python",
   "nbconvert_exporter": "python",
   "pygments_lexer": "ipython3",
   "version": "3.9.13"
  }
 },
 "nbformat": 4,
 "nbformat_minor": 5
}
